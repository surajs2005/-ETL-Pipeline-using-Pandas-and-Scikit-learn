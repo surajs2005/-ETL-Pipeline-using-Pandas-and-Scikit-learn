{
 "cells": [
  {
   "cell_type": "markdown",
   "id": "80b463a5",
   "metadata": {},
   "source": [
    "# 🛠️ ETL Pipeline using Pandas and Scikit-learn"
   ]
  },
  {
   "cell_type": "markdown",
   "id": "d9d6fd46",
   "metadata": {},
   "source": [
    "\n",
    "This notebook demonstrates a complete ETL (Extract, Transform, Load) process using:\n",
    "- **Pandas** for data manipulation\n",
    "- **Scikit-learn** for preprocessing\n",
    "\n",
    "The dataset includes both **numerical** and **categorical** columns, with missing values.\n"
   ]
  },
  {
   "cell_type": "code",
   "execution_count": null,
   "id": "65720b2b",
   "metadata": {},
   "outputs": [],
   "source": [
    "import pandas as pd\n",
    "import numpy as np\n",
    "from sklearn.pipeline import Pipeline\n",
    "from sklearn.impute import SimpleImputer\n",
    "from sklearn.preprocessing import StandardScaler, OneHotEncoder\n",
    "from sklearn.compose import ColumnTransformer"
   ]
  },
  {
   "cell_type": "code",
   "execution_count": null,
   "id": "3d875948",
   "metadata": {},
   "outputs": [],
   "source": [
    "# Sample dataset\n",
    "data = {\n",
    "    \"Name\": [\"Alice\", \"Bob\", \"Charlie\", \"David\", \"Eva\", \"Frank\", \"Grace\", \"Henry\", \"Isla\", \"John\"],\n",
    "    \"Age\": [25, 30, None, 45, 29, 35, 40, None, 31, 50],\n",
    "    \"Gender\": [\"Female\", \"Male\", \"Male\", None, \"Female\", \"Male\", \"Female\", \"Male\", None, \"Male\"],\n",
    "    \"Department\": [\"HR\", \"Finance\", \"IT\", \"IT\", \"Finance\", \"HR\", \"Marketing\", \"Finance\", \"Marketing\", \"HR\"],\n",
    "    \"Salary\": [50000, 60000, 65000, None, 62000, 58000, None, 55000, 61000, 72000],\n",
    "    \"Experience\": [2, 4, 5, 10, None, 6, 8, 3, 5, 12]\n",
    "}\n",
    "df = pd.DataFrame(data)\n",
    "df.to_csv(\"raw_data.csv\", index=False)\n",
    "df.head()"
   ]
  },
  {
   "cell_type": "code",
   "execution_count": null,
   "id": "a1074195",
   "metadata": {},
   "outputs": [],
   "source": [
    "# Read raw data\n",
    "df = pd.read_csv(\"raw_data.csv\")\n",
    "\n",
    "# Separate columns\n",
    "numerical_cols = ['Age', 'Salary', 'Experience']\n",
    "categorical_cols = ['Name', 'Gender', 'Department']\n",
    "\n",
    "# Define pipelines\n",
    "num_pipeline = Pipeline(steps=[\n",
    "    ('imputer', SimpleImputer(strategy='mean')),\n",
    "    ('scaler', StandardScaler())\n",
    "])\n",
    "cat_pipeline = Pipeline(steps=[\n",
    "    ('imputer', SimpleImputer(strategy='most_frequent')),\n",
    "    ('onehot', OneHotEncoder(sparse=False, handle_unknown='ignore'))\n",
    "])\n",
    "\n",
    "# Combine\n",
    "preprocessor = ColumnTransformer(transformers=[\n",
    "    ('num', num_pipeline, numerical_cols),\n",
    "    ('cat', cat_pipeline, categorical_cols)\n",
    "])\n",
    "\n",
    "# Transform\n",
    "processed_data = preprocessor.fit_transform(df)\n",
    "cat_feature_names = preprocessor.named_transformers_['cat']['onehot'].get_feature_names_out(categorical_cols)\n",
    "all_feature_names = numerical_cols + list(cat_feature_names)\n",
    "processed_df = pd.DataFrame(processed_data, columns=all_feature_names)\n",
    "processed_df.to_csv(\"transformed_data.csv\", index=False)\n",
    "processed_df.head()"
   ]
  }
 ],
 "metadata": {},
 "nbformat": 4,
 "nbformat_minor": 5
}
